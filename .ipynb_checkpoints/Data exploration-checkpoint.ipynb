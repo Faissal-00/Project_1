{
 "cells": [
  {
   "cell_type": "code",
   "execution_count": 2,
   "id": "e027cb3d",
   "metadata": {},
   "outputs": [],
   "source": [
    "import pandas as pd\n",
    "import matplotlib.pyplot as plt"
   ]
  },
  {
   "cell_type": "code",
   "execution_count": 3,
   "id": "ac4be2a1",
   "metadata": {},
   "outputs": [],
   "source": [
    "#Read data from the CSV file that contains the data demographics and user spending\n",
    "df = pd.read_csv('dataset-sell4all.csv')"
   ]
  },
  {
   "cell_type": "code",
   "execution_count": 7,
   "id": "8783a993",
   "metadata": {},
   "outputs": [
    {
     "data": {
      "text/html": [
       "<div>\n",
       "<style scoped>\n",
       "    .dataframe tbody tr th:only-of-type {\n",
       "        vertical-align: middle;\n",
       "    }\n",
       "\n",
       "    .dataframe tbody tr th {\n",
       "        vertical-align: top;\n",
       "    }\n",
       "\n",
       "    .dataframe thead th {\n",
       "        text-align: right;\n",
       "    }\n",
       "</style>\n",
       "<table border=\"1\" class=\"dataframe\">\n",
       "  <thead>\n",
       "    <tr style=\"text-align: right;\">\n",
       "      <th></th>\n",
       "      <th>Name</th>\n",
       "      <th>Phone Number</th>\n",
       "      <th>Email</th>\n",
       "      <th>Address</th>\n",
       "      <th>Country</th>\n",
       "      <th>Postal code</th>\n",
       "      <th>Last date of connection</th>\n",
       "      <th>Last time of connection</th>\n",
       "      <th>Age</th>\n",
       "      <th>Gender</th>\n",
       "      <th>Customer spendings</th>\n",
       "    </tr>\n",
       "  </thead>\n",
       "  <tbody>\n",
       "    <tr>\n",
       "      <th>0</th>\n",
       "      <td>Aaron Cote</td>\n",
       "      <td>966-7625</td>\n",
       "      <td>elit@hotmail.org</td>\n",
       "      <td>699-5837 Risus Street</td>\n",
       "      <td>Norway</td>\n",
       "      <td>4126</td>\n",
       "      <td>5-Apr-21</td>\n",
       "      <td>4:39</td>\n",
       "      <td>71</td>\n",
       "      <td>Man</td>\n",
       "      <td>356</td>\n",
       "    </tr>\n",
       "    <tr>\n",
       "      <th>1</th>\n",
       "      <td>Angelica Lawson</td>\n",
       "      <td>232-3051</td>\n",
       "      <td>diam.proin@google.org</td>\n",
       "      <td>481-8428 Magna. Street</td>\n",
       "      <td>Pakistan</td>\n",
       "      <td>518885</td>\n",
       "      <td>oct. 10, 2021</td>\n",
       "      <td>0:36</td>\n",
       "      <td>37</td>\n",
       "      <td>Women</td>\n",
       "      <td>173</td>\n",
       "    </tr>\n",
       "    <tr>\n",
       "      <th>2</th>\n",
       "      <td>Louis Gilbert</td>\n",
       "      <td>1-997-733-0134</td>\n",
       "      <td>lorem.fringilla@hotmail.org</td>\n",
       "      <td>Ap #192-2082 Enim. Ave</td>\n",
       "      <td>Colombia</td>\n",
       "      <td>575444</td>\n",
       "      <td>2-Jul-22</td>\n",
       "      <td>3:37</td>\n",
       "      <td>24</td>\n",
       "      <td>Women</td>\n",
       "      <td>105</td>\n",
       "    </tr>\n",
       "    <tr>\n",
       "      <th>3</th>\n",
       "      <td>Oliver Christensen</td>\n",
       "      <td>1-260-552-1780</td>\n",
       "      <td>aliquam.iaculis.lacus@yahoo.net</td>\n",
       "      <td>Ap #640-1456 Ante Rd.</td>\n",
       "      <td>Belgium</td>\n",
       "      <td>1258</td>\n",
       "      <td>25-Jan-21</td>\n",
       "      <td>10:38</td>\n",
       "      <td>40</td>\n",
       "      <td>Women</td>\n",
       "      <td>380</td>\n",
       "    </tr>\n",
       "    <tr>\n",
       "      <th>4</th>\n",
       "      <td>Rooney Wilcox</td>\n",
       "      <td>1-738-376-1733</td>\n",
       "      <td>malesuada.vel@icloud.co</td>\n",
       "      <td>Ap #826-4894 Mi Rd.</td>\n",
       "      <td>Belgium</td>\n",
       "      <td>5164</td>\n",
       "      <td>29-May-21</td>\n",
       "      <td>6:55</td>\n",
       "      <td>47</td>\n",
       "      <td>Man</td>\n",
       "      <td>79</td>\n",
       "    </tr>\n",
       "  </tbody>\n",
       "</table>\n",
       "</div>"
      ],
      "text/plain": [
       "                 Name    Phone Number                            Email  \\\n",
       "0          Aaron Cote        966-7625                 elit@hotmail.org   \n",
       "1     Angelica Lawson        232-3051            diam.proin@google.org   \n",
       "2       Louis Gilbert  1-997-733-0134      lorem.fringilla@hotmail.org   \n",
       "3  Oliver Christensen  1-260-552-1780  aliquam.iaculis.lacus@yahoo.net   \n",
       "4       Rooney Wilcox  1-738-376-1733          malesuada.vel@icloud.co   \n",
       "\n",
       "                  Address   Country Postal code Last date of connection  \\\n",
       "0   699-5837 Risus Street    Norway        4126                5-Apr-21   \n",
       "1  481-8428 Magna. Street  Pakistan      518885           oct. 10, 2021   \n",
       "2  Ap #192-2082 Enim. Ave  Colombia      575444                2-Jul-22   \n",
       "3   Ap #640-1456 Ante Rd.   Belgium        1258               25-Jan-21   \n",
       "4     Ap #826-4894 Mi Rd.   Belgium        5164               29-May-21   \n",
       "\n",
       "  Last time of connection  Age Gender  Customer spendings  \n",
       "0                    4:39   71    Man                 356  \n",
       "1                    0:36   37  Women                 173  \n",
       "2                    3:37   24  Women                 105  \n",
       "3                   10:38   40  Women                 380  \n",
       "4                    6:55   47    Man                  79  "
      ]
     },
     "execution_count": 7,
     "metadata": {},
     "output_type": "execute_result"
    }
   ],
   "source": [
    "#Display information about the first 5 lines of the CSV file\n",
    "df.head(5)"
   ]
  },
  {
   "cell_type": "code",
   "execution_count": 64,
   "id": "64e2300d",
   "metadata": {},
   "outputs": [
    {
     "name": "stdout",
     "output_type": "stream",
     "text": [
      "number of lines: 469\n"
     ]
    }
   ],
   "source": [
    "#Show number of rows\n",
    "print(\"number of lines:\", len(df))"
   ]
  },
  {
   "cell_type": "code",
   "execution_count": 11,
   "id": "53a8a759",
   "metadata": {},
   "outputs": [
    {
     "name": "stdout",
     "output_type": "stream",
     "text": [
      "List of column names :  ['Name', 'Phone Number', 'Email', 'Address', 'Country', 'Postal code', 'Last date of connection', 'Last time of connection', 'Age', 'Gender', 'Customer spendings']\n"
     ]
    }
   ],
   "source": [
    "#Show CSV File Columns\n",
    "print(\"List of column names : \",list(df.columns))"
   ]
  },
  {
   "cell_type": "code",
   "execution_count": 13,
   "id": "153ac820",
   "metadata": {},
   "outputs": [
    {
     "name": "stdout",
     "output_type": "stream",
     "text": [
      "Name                       object\n",
      "Phone Number               object\n",
      "Email                      object\n",
      "Address                    object\n",
      "Country                    object\n",
      "Postal code                object\n",
      "Last date of connection    object\n",
      "Last time of connection    object\n",
      "Age                         int64\n",
      "Gender                     object\n",
      "Customer spendings          int64\n",
      "dtype: object\n"
     ]
    }
   ],
   "source": [
    "#View CSV File Field Data Types\n",
    "print(df.dtypes) "
   ]
  },
  {
   "cell_type": "code",
   "execution_count": 15,
   "id": "1526c2fb",
   "metadata": {},
   "outputs": [],
   "source": [
    "#Explanation of technical summary details displayed"
   ]
  },
  {
   "cell_type": "markdown",
   "id": "682e1083",
   "metadata": {},
   "source": [
    "#### We have a database of 505 customers with their information such as Name, Phone number, Email..."
   ]
  },
  {
   "cell_type": "code",
   "execution_count": 68,
   "id": "885e6601",
   "metadata": {},
   "outputs": [
    {
     "name": "stdout",
     "output_type": "stream",
     "text": [
      "the median age is : 46.0\n",
      "the mean age is : 46.2409381663113\n"
     ]
    }
   ],
   "source": [
    "#Calculate the median and the mean of the “Age” columns\n",
    "print(\"the median age is :\",df['Age'].median())\n",
    "print(\"the mean age is :\",df['Age'].mean())"
   ]
  },
  {
   "cell_type": "code",
   "execution_count": 69,
   "id": "006a0864",
   "metadata": {},
   "outputs": [
    {
     "name": "stdout",
     "output_type": "stream",
     "text": [
      "the median Customer spendings is : 328.0\n",
      "the mean Customer spendings is : 332.29637526652454\n"
     ]
    }
   ],
   "source": [
    "#Calculate the median and the mean of the \"Customer spendings\" columns\n",
    "print(\"the median Customer spendings is :\",df['Customer spendings'].median())\n",
    "print(\"the mean Customer spendings is :\",df['Customer spendings'].mean())"
   ]
  },
  {
   "cell_type": "code",
   "execution_count": 18,
   "id": "931fe959",
   "metadata": {},
   "outputs": [
    {
     "name": "stdout",
     "output_type": "stream",
     "text": [
      "Country\n",
      "Australia             41.0\n",
      "Austria               46.0\n",
      "Belgium               39.5\n",
      "Brazil                49.5\n",
      "Canada                46.0\n",
      "Chile                 46.0\n",
      "China                 36.0\n",
      "Colombia              34.0\n",
      "Costa Rica            44.5\n",
      "France                59.5\n",
      "Germany               52.5\n",
      "India                 45.0\n",
      "Indonesia             41.0\n",
      "Ireland               53.5\n",
      "Italy                 37.0\n",
      "Mexico                47.0\n",
      "Netherlands           45.0\n",
      "New Zealand           38.0\n",
      "Nigeria               37.0\n",
      "Norway                54.0\n",
      "Pakistan              51.0\n",
      "Peru                  35.0\n",
      "Philippines           51.0\n",
      "Poland                49.5\n",
      "Russian Federation    48.0\n",
      "Singapore             38.0\n",
      "South Africa          45.0\n",
      "South Korea           49.5\n",
      "Spain                 54.5\n",
      "Sweden                40.5\n",
      "Turkey                60.0\n",
      "Ukraine               46.0\n",
      "United Kingdom        48.5\n",
      "United States         50.5\n",
      "Vietnam               49.0\n",
      "Name: Age, dtype: float64\n"
     ]
    }
   ],
   "source": [
    "#Calculate the median age for each country\n",
    "print(df.groupby(\"Country\")['Age'].median())"
   ]
  },
  {
   "cell_type": "code",
   "execution_count": 26,
   "id": "b3dee946",
   "metadata": {},
   "outputs": [],
   "source": [
    "#a bar chart data visualization that shows customer spending by country\n",
    "total_spending = df.groupby(\"Country\")[\"Customer spendings\"].sum()"
   ]
  },
  {
   "cell_type": "code",
   "execution_count": 28,
   "id": "2408eb2d",
   "metadata": {},
   "outputs": [
    {
     "data": {
      "image/png": "[encoded data removed]",
      "text/plain": [
       "<Figure size 432x288 with 1 Axes>"
      ]
     },
     "metadata": {
      "needs_background": "light"
     },
     "output_type": "display_data"
    }
   ],
   "source": [
    "plt.bar(total_spending.index, total_spending.values)\n",
    "plt.xlabel(\"Country\")\n",
    "plt.ylabel(\"Total Spending\")\n",
    "xlabel = plt.gca().get_xticklabels()\n",
    "for label in xlabel:\n",
    "    label.set_rotation(90)\n",
    "plt.title(\"Customer Spending Peer-Pays\")\n",
    "plt.show()"
   ]
  },
  {
   "cell_type": "code",
   "execution_count": 73,
   "id": "2e430027",
   "metadata": {},
   "outputs": [],
   "source": [
    "#delete all lines users who spent less than €10 on the site\n",
    "df = df[df['Customer spendings'] >= 10]\n",
    "df.to_csv('dataset-sell4all.csv', index=False)"
   ]
  },
  {
   "cell_type": "code",
   "execution_count": 74,
   "id": "dc491909",
   "metadata": {},
   "outputs": [],
   "source": [
    "#delete all lines that appear more than once in the data\n",
    "df = df.drop_duplicates()\n",
    "df.to_csv('dataset-sell4all.csv', index=False)"
   ]
  },
  {
   "cell_type": "code",
   "execution_count": 75,
   "id": "08a79795",
   "metadata": {},
   "outputs": [],
   "source": [
    "#Write the cleaned data to a new CSV file with only the columns following\n",
    "selected_columns = ['Country', 'Age', 'Gender', 'Customer spendings']\n",
    "df = df[selected_columns]"
   ]
  },
  {
   "cell_type": "code",
   "execution_count": 77,
   "id": "a2da284d",
   "metadata": {},
   "outputs": [],
   "source": [
    "#the new csv file\n",
    "df.to_csv('cleaned_dataset-sell4all.csv', index=False)"
   ]
  }
 ],
 "metadata": {
  "kernelspec": {
   "display_name": "Python 3",
   "language": "python",
   "name": "python3"
  },
  "language_info": {
   "codemirror_mode": {
    "name": "ipython",
    "version": 3
   },
   "file_extension": ".py",
   "mimetype": "text/x-python",
   "name": "python",
   "nbconvert_exporter": "python",
   "pygments_lexer": "ipython3",
   "version": "3.6.2"
  }
 },
 "nbformat": 4,
 "nbformat_minor": 5
}
